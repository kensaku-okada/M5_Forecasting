{
 "cells": [
  {
   "cell_type": "markdown",
   "metadata": {},
   "source": [
    "source: https://www.kaggle.com/kyakovlev/m5-custom-features from https://www.kaggle.com/ejunichi/m5-three-shades-of-dark-darker-magic"
   ]
  },
  {
   "cell_type": "code",
   "execution_count": 1,
   "metadata": {},
   "outputs": [],
   "source": [
    "import sys\n",
    "import os\n",
    "import pathlib\n",
    "import gc\n",
    "import pandas as pd\n",
    "pd.set_option('display.max_columns', 500)\n",
    "# pd.set_option('display.max_rows', 500)\n",
    "import numpy as np\n",
    "import math\n",
    "import random\n",
    "import pickle\n",
    "import time\n",
    "import psutil\n",
    "import warnings\n"
   ]
  },
  {
   "cell_type": "markdown",
   "metadata": {},
   "source": [
    "# function fixing random seeds"
   ]
  },
  {
   "cell_type": "code",
   "execution_count": 2,
   "metadata": {},
   "outputs": [],
   "source": [
    "def seed_everything(seed=0):\n",
    "    \"\"\"Sets seed to make all processes deterministic     # type: int\n",
    "    \n",
    "    \"\"\"\n",
    "    random.seed(seed)\n",
    "    np.random.seed(seed)\n",
    "\n",
    "SEED = 42\n",
    "seed_everything(SEED)    "
   ]
  },
  {
   "cell_type": "markdown",
   "metadata": {},
   "source": [
    "# constant variables for helper functions"
   ]
  },
  {
   "cell_type": "code",
   "execution_count": 3,
   "metadata": {
    "scrolled": true
   },
   "outputs": [
    {
     "name": "stdout",
     "output_type": "stream",
     "text": [
      "N_CORES: 36\n"
     ]
    }
   ],
   "source": [
    "N_CORES = psutil.cpu_count()     # Available CPU cores\n",
    "print(f\"N_CORES: {N_CORES}\")"
   ]
  },
  {
   "cell_type": "markdown",
   "metadata": {},
   "source": [
    "#  constant variables for data import"
   ]
  },
  {
   "cell_type": "code",
   "execution_count": 4,
   "metadata": {},
   "outputs": [],
   "source": [
    "# change this var according to the dataset you refer to \n",
    "_DATA_DIR = os.path.sep.join([\"data\", \"Point_to_uncertainty_different_ranges_per_level\"])\n",
    "_OUTPUT_DIR = _DATA_DIR\n",
    "\n",
    "_VALIDATION_RESULT = \"submission_v5_validation.csv\"\n",
    "_EVALUATION_RESULT = \"submission_v5_evaluation.csv\""
   ]
  },
  {
   "cell_type": "markdown",
   "metadata": {},
   "source": [
    "# function nicely diplaying a head of Pandas DataFrame"
   ]
  },
  {
   "cell_type": "code",
   "execution_count": 5,
   "metadata": {},
   "outputs": [],
   "source": [
    "import IPython\n",
    "\n",
    "def display(*dfs, head=True):\n",
    "    for df in dfs:\n",
    "        IPython.display.display(df.head() if head else df)"
   ]
  },
  {
   "cell_type": "markdown",
   "metadata": {},
   "source": [
    "# function processing df in multiprocess"
   ]
  },
  {
   "cell_type": "code",
   "execution_count": 6,
   "metadata": {},
   "outputs": [],
   "source": [
    "def run_df_in_multiprocess(func, t_split):\n",
    "    \"\"\"Process ds in Multiprocess\n",
    "    \n",
    "    \"\"\"\n",
    "    num_cores = np.min([N_CORES,len(t_split)])\n",
    "    print(f\"num_cores: {num_cores}\")\n",
    "    pool = Pool(num_cores)\n",
    "    df = pd.concat(pool.map(func, t_split), axis=1)\n",
    "    pool.close()\n",
    "    pool.join()\n",
    "    return df"
   ]
  },
  {
   "cell_type": "markdown",
   "metadata": {},
   "source": [
    "# other helper functions"
   ]
  },
  {
   "cell_type": "code",
   "execution_count": 7,
   "metadata": {},
   "outputs": [],
   "source": [
    "def get_memory_usage():\n",
    "    \"\"\"メモリ使用量を確認するためのシンプルな「メモリプロファイラ」\n",
    "    \n",
    "    \"\"\"\n",
    "    return np.round(psutil.Process(os.getpid()).memory_info()[0]/2.**30, 2) \n",
    "        \n",
    "def sizeof_fmt(num, suffix='B'):\n",
    "    for unit in ['','Ki','Mi','Gi','Ti','Pi','Ei','Zi']:\n",
    "        if abs(num) < 1024.0:\n",
    "            return \"%3.1f%s%s\" % (num, unit, suffix)\n",
    "        num /= 1024.0\n",
    "    return \"%.1f%s%s\" % (num, 'Yi', suffix)\n",
    "\n",
    "\n",
    "def merge_by_concat(df1, df2, merge_on):\n",
    "    \"\"\"\n",
    "    dtypesを失わないための連結による結合\n",
    "    \n",
    "    \"\"\"\n",
    "    \n",
    "    merged_gf = df1[merge_on]\n",
    "    merged_gf = merged_gf.merge(df2, on=merge_on, how='left')\n",
    "    new_columns = [col for col in list(merged_gf) if col not in merge_on]\n",
    "    df1 = pd.concat([df1, merged_gf[new_columns]], axis=1)\n",
    "    return df1\n",
    "\n",
    "\n",
    "def get_base_test():\n",
    "    \"\"\"Recombines Test set after training\n",
    "    \n",
    "    \"\"\"\n",
    "    base_test = pd.DataFrame()\n",
    "\n",
    "    for store_id in STORE_IDS:\n",
    "        test_pkl_path = os.path.sep.join([PRETRAINED_MODEL_DIR, 'test_dataset_'+store_id+'.pkl'])\n",
    "        temp_df = pd.read_pickle(test_pkl_path)\n",
    "        temp_df['store_id'] = store_id\n",
    "        base_test = pd.concat([base_test, temp_df]).reset_index(drop=True)\n",
    "    \n",
    "    return base_test\n",
    "\n",
    "\n",
    "\n",
    "##### Helper to make dynamic rolling lags #####\n",
    "def make_lag(lag_day):\n",
    "    \"\"\"\n",
    "    \n",
    "    \"\"\"\n",
    "    lag_df = base_test[['id','d',TARGET]]\n",
    "    col_name = 'sales_lag_'+str(lag_day)\n",
    "    lag_df[col_name] = lag_df.groupby(['id'])[TARGET].transform(lambda x: x.shift(lag_day)).astype(np.float16)\n",
    "    return lag_df[[col_name]]\n",
    "\n",
    "\n",
    "def make_lag_roll(lag_day):\n",
    "    \"\"\"\n",
    "    \n",
    "    \"\"\"\n",
    "    shift_day = lag_day[0]\n",
    "    roll_wind = lag_day[1]\n",
    "    lag_df = base_test[['id','d',TARGET]]\n",
    "    col_name = 'rolling_mean_tmp_'+str(shift_day)+'_'+str(roll_wind)\n",
    "    lag_df[col_name] = lag_df.groupby(['id'])[TARGET].transform(lambda x: x.shift(shift_day).rolling(roll_wind).mean())\n",
    "    return lag_df[[col_name]]\n",
    "##### Helper to make dynamic rolling lags #####"
   ]
  },
  {
   "cell_type": "markdown",
   "metadata": {},
   "source": [
    "# function importing data"
   ]
  },
  {
   "cell_type": "code",
   "execution_count": 8,
   "metadata": {},
   "outputs": [],
   "source": [
    "def reduce_mem_usage(df, verbose=True):\n",
    "    \"\"\"\n",
    "    reduce the memory usage of the given dataframe.\n",
    "    https://qiita.com/hiroyuki_kageyama/items/02865616811022f79754\n",
    "    \n",
    "    Args:\n",
    "        df: Dataframe\n",
    "        verbose: \n",
    "        \n",
    "    Returns:\n",
    "        df, whose memory usage is reduced.\n",
    "\n",
    "    Raises:\n",
    "        None\n",
    "    \"\"\"\n",
    "    numerics = ['int16', 'int32', 'int64', 'float16', 'float32', 'float64']\n",
    "    start_mem = df.memory_usage().sum() / 1024**2    \n",
    "    for col in df.columns: #columns毎に処理\n",
    "        col_type = df[col].dtypes\n",
    "        if col_type in numerics: #numericsのデータ型の範囲内のときに処理を実行. データの最大最小値を元にデータ型を効率的なものに変更\n",
    "            c_min = df[col].min()\n",
    "            c_max = df[col].max()\n",
    "            if str(col_type)[:3] == 'int':\n",
    "                if c_min > np.iinfo(np.int8).min and c_max < np.iinfo(np.int8).max:\n",
    "                    df[col] = df[col].astype(np.int8)\n",
    "                elif c_min > np.iinfo(np.int16).min and c_max < np.iinfo(np.int16).max:\n",
    "                    df[col] = df[col].astype(np.int16)\n",
    "                elif c_min > np.iinfo(np.int32).min and c_max < np.iinfo(np.int32).max:\n",
    "                    df[col] = df[col].astype(np.int32)\n",
    "                elif c_min > np.iinfo(np.int64).min and c_max < np.iinfo(np.int64).max:\n",
    "                    df[col] = df[col].astype(np.int64)  \n",
    "            else:\n",
    "                if c_min > np.finfo(np.float16).min and c_max < np.finfo(np.float16).max:\n",
    "                    df[col] = df[col].astype(np.float16)\n",
    "                elif c_min > np.finfo(np.float32).min and c_max < np.finfo(np.float32).max:\n",
    "                    df[col] = df[col].astype(np.float32)\n",
    "                else:\n",
    "                    df[col] = df[col].astype(np.float64)    \n",
    "    end_mem = df.memory_usage().sum() / 1024**2\n",
    "    if verbose: print('Mem. usage decreased to {:5.2f} Mb ({:.1f}% reduction)'.format(end_mem, 100 * (start_mem - end_mem) / start_mem))\n",
    "    return df\n",
    "\n",
    "def read_csv_data(directory, file_name):\n",
    "    print('Reading files...')\n",
    "    df = pd.read_csv(os.path.sep.join([str(directory), _DATA_DIR, file_name]))\n",
    "    df = reduce_mem_usage(df)\n",
    "    print('{} has {} rows and {} columns'.format(file_name, df.shape[0], df.shape[1]))\n",
    "    \n",
    "    return df\n",
    "\n",
    "\n",
    "def read_data_by_store(store):\n",
    "#     # Read and contact basic feature\n",
    "#     df = pd.concat([pd.read_pickle(BASE),\n",
    "#                     pd.read_pickle(PRICE).iloc[:,2:],\n",
    "#                     pd.read_pickle(CALENDAR).iloc[:,2:]],\n",
    "#                     axis=1)\n",
    "\n",
    "    # Read and contact basic feature\n",
    "    parent_dir = pathlib.Path(os.path.abspath(os.curdir)).parent.parent\n",
    "    df = pd.concat([pd.read_pickle(os.path.sep.join([str(parent_dir), _DATA_DIR, BASE])),\n",
    "                    pd.read_pickle(os.path.sep.join([str(parent_dir), _DATA_DIR, PRICE])).iloc[:,2:],\n",
    "                    pd.read_pickle(os.path.sep.join([str(parent_dir), _DATA_DIR, CALENDAR])).iloc[:,2:]],\n",
    "                    axis=1)\n",
    "#     print(f\"df at read_data_by_store: {df}\")\n",
    "    \n",
    "    # Leave only relevant store\n",
    "    df = df[df['store_id']==store]\n",
    "\n",
    "    # With memory limits we have to read lags and mean encoding features separately and drop items that we don't need.\n",
    "    # As our Features Grids are aligned \n",
    "    # we can use index to keep only necessary rows\n",
    "    # Alignment is good for us as concat uses less memory than merge.\n",
    "    df2 = pd.read_pickle(os.path.sep.join([str(parent_dir), _DATA_DIR, MEAN_ENC]))[MEAN_STD_FEATURES]\n",
    "    df2 = df2[df2.index.isin(df.index)]\n",
    "    print(f\"MEAN_ENC: {MEAN_ENC}\")\n",
    "    \n",
    "    df3 = pd.read_pickle(os.path.sep.join([str(parent_dir), _DATA_DIR, LAGS])).iloc[:,3:]\n",
    "    df3 = df3[df3.index.isin(df.index)]\n",
    "    print(f\"LAGS: {LAGS}\")\n",
    "    \n",
    "    df = pd.concat([df, df2], axis=1)\n",
    "    del df2 # to not reach memory limit \n",
    "    \n",
    "    df = pd.concat([df, df3], axis=1)\n",
    "    del df3 # to not reach memory limit \n",
    "    \n",
    "    # Create features list\n",
    "    features = [col for col in list(df) if col not in REMOVE_FEATURES]\n",
    "    df = df[['id','d',TARGET]+features]\n",
    "    \n",
    "    # Skipping first n rows\n",
    "    df = df[df['d']>=START_DAY_TRAIN].reset_index(drop=True)\n",
    "    \n",
    "    return df, features"
   ]
  },
  {
   "cell_type": "markdown",
   "metadata": {},
   "source": [
    "# read csv data"
   ]
  },
  {
   "cell_type": "code",
   "execution_count": 9,
   "metadata": {},
   "outputs": [
    {
     "name": "stdout",
     "output_type": "stream",
     "text": [
      "parent_dir: /home/ec2-user/SageMaker\n",
      "Reading files...\n",
      "Mem. usage decreased to 47.07 Mb (72.4% reduction)\n",
      "submission_v5_validation.csv has 771120 rows and 29 columns\n",
      "Reading files...\n",
      "Mem. usage decreased to 51.48 Mb (69.8% reduction)\n",
      "submission_v5_evaluation.csv has 771120 rows and 29 columns\n"
     ]
    }
   ],
   "source": [
    "parent_dir = pathlib.Path(os.path.abspath(os.curdir)).parent\n",
    "print(f\"parent_dir: {parent_dir}\")\n",
    "\n",
    "validation_df = read_csv_data(parent_dir, _VALIDATION_RESULT)\n",
    "evaluation_df = read_csv_data(parent_dir, _EVALUATION_RESULT)\n"
   ]
  },
  {
   "cell_type": "code",
   "execution_count": 10,
   "metadata": {},
   "outputs": [
    {
     "name": "stdout",
     "output_type": "stream",
     "text": [
      "                                       id       F1       F2       F3       F4  \\\n",
      "0                Total_X_0.005_validation  29696.0  28000.0  27568.0  27872.0   \n",
      "1                   CA_X_0.005_validation  11968.0  11064.0  10912.0  10928.0   \n",
      "2                   TX_X_0.005_validation   7248.0   6836.0   6684.0   6752.0   \n",
      "3                   WI_X_0.005_validation   7468.0   7268.0   7196.0   7364.0   \n",
      "4                 CA_1_X_0.005_validation   2854.0   2530.0   2526.0   2538.0   \n",
      "...                                   ...      ...      ...      ...      ...   \n",
      "771115  FOODS_3_823_WI_3_0.995_evaluation      0.0      0.0      0.0      0.0   \n",
      "771116  FOODS_3_824_WI_3_0.995_evaluation      0.0      0.0      0.0      0.0   \n",
      "771117  FOODS_3_825_WI_3_0.995_evaluation      0.0      0.0      0.0      0.0   \n",
      "771118  FOODS_3_826_WI_3_0.995_evaluation      0.0      0.0      0.0      0.0   \n",
      "771119  FOODS_3_827_WI_3_0.995_evaluation      0.0      0.0      0.0      0.0   \n",
      "\n",
      "             F5       F6       F7       F8       F9      F10      F11  \\\n",
      "0       31648.0  37408.0  41728.0  33888.0  33312.0  30464.0  31568.0   \n",
      "1       12056.0  15040.0  16704.0  12944.0  12024.0  11840.0  11760.0   \n",
      "2        7320.0   8552.0  10008.0   7668.0   7808.0   7116.0   7268.0   \n",
      "3        9048.0  10040.0  10792.0   9832.0  10112.0   8416.0   9344.0   \n",
      "4        2938.0   3736.0   4460.0   3158.0   2816.0   2790.0   2828.0   \n",
      "...         ...      ...      ...      ...      ...      ...      ...   \n",
      "771115      0.0      0.0      0.0      0.0      0.0      0.0      0.0   \n",
      "771116      0.0      0.0      0.0      0.0      0.0      0.0      0.0   \n",
      "771117      0.0      0.0      0.0      0.0      0.0      0.0      0.0   \n",
      "771118      0.0      0.0      0.0      0.0      0.0      0.0      0.0   \n",
      "771119      0.0      0.0      0.0      0.0      0.0      0.0      0.0   \n",
      "\n",
      "            F12      F13      F14      F15      F16      F17      F18  \\\n",
      "0       34944.0  41568.0  35520.0  33920.0  30512.0  31456.0  31328.0   \n",
      "1       12832.0  16152.0  14064.0  12752.0  11832.0  11520.0  11360.0   \n",
      "2        7944.0   9608.0   8100.0   8092.0   7196.0   7536.0   7436.0   \n",
      "3       10624.0  11600.0   9760.0   9632.0   8384.0   9192.0   9360.0   \n",
      "4        3166.0   4016.0   3394.0   3110.0   2752.0   2668.0   2600.0   \n",
      "...         ...      ...      ...      ...      ...      ...      ...   \n",
      "771115      0.0      0.0      0.0      0.0      0.0      0.0      0.0   \n",
      "771116      0.0      0.0      0.0      0.0      0.0      0.0      0.0   \n",
      "771117      0.0      0.0      0.0      0.0      0.0      0.0      0.0   \n",
      "771118      0.0      0.0      0.0      0.0      0.0      0.0      0.0   \n",
      "771119      0.0      0.0      0.0      0.0      0.0      0.0      0.0   \n",
      "\n",
      "            F19      F20      F21      F22      F23      F24      F25  \\\n",
      "0       33440.0  41280.0  41984.0  31568.0  29264.0  28784.0  28768.0   \n",
      "1       12392.0  15720.0  16072.0  12376.0  11432.0  11240.0  11184.0   \n",
      "2        7984.0   9200.0   9744.0   7592.0   6992.0   6924.0   6960.0   \n",
      "3        9672.0  12176.0  11912.0   8400.0   7872.0   7712.0   7696.0   \n",
      "4        2996.0   3852.0   3994.0   2916.0   2588.0   2590.0   2590.0   \n",
      "...         ...      ...      ...      ...      ...      ...      ...   \n",
      "771115      0.0      0.0      0.0      0.0      0.0      0.0      0.0   \n",
      "771116      0.0      0.0      0.0      0.0      0.0      0.0      0.0   \n",
      "771117      0.0      0.0      0.0      0.0      0.0      0.0      0.0   \n",
      "771118      0.0      0.0      0.0      0.0      0.0      0.0      0.0   \n",
      "771119      0.0      0.0      0.0      0.0      0.0      0.0      0.0   \n",
      "\n",
      "            F26      F27      F28  \n",
      "0       31904.0  38272.0  38464.0  \n",
      "1       12344.0  15504.0  15936.0  \n",
      "2        7360.0   8904.0   9064.0  \n",
      "3        8960.0  10000.0   9560.0  \n",
      "4        2968.0   3792.0   3878.0  \n",
      "...         ...      ...      ...  \n",
      "771115      0.0      0.0      0.0  \n",
      "771116      0.0      0.0      0.0  \n",
      "771117      0.0      0.0      0.0  \n",
      "771118      0.0      0.0      0.0  \n",
      "771119      0.0      0.0      0.0  \n",
      "\n",
      "[771120 rows x 29 columns]\n"
     ]
    }
   ],
   "source": [
    "print(validation_df)"
   ]
  },
  {
   "cell_type": "code",
   "execution_count": 11,
   "metadata": {},
   "outputs": [
    {
     "name": "stdout",
     "output_type": "stream",
     "text": [
      "                                       id        F1        F2        F3  \\\n",
      "0                Total_X_0.005_validation  0.000000  0.000000  0.000000   \n",
      "1                   CA_X_0.005_validation  0.000000  0.000000  0.000000   \n",
      "2                   TX_X_0.005_validation  0.000000  0.000000  0.000000   \n",
      "3                   WI_X_0.005_validation  0.000000  0.000000  0.000000   \n",
      "4                 CA_1_X_0.005_validation  0.000000  0.000000  0.000000   \n",
      "...                                   ...       ...       ...       ...   \n",
      "771115  FOODS_3_823_WI_3_0.995_evaluation  0.912598  0.986328  0.997559   \n",
      "771116  FOODS_3_824_WI_3_0.995_evaluation  0.410645  0.404053  0.402344   \n",
      "771117  FOODS_3_825_WI_3_0.995_evaluation  1.342773  1.086914  1.196289   \n",
      "771118  FOODS_3_826_WI_3_0.995_evaluation  2.066406  2.388672  2.027344   \n",
      "771119  FOODS_3_827_WI_3_0.995_evaluation  2.611328  2.544922  2.009766   \n",
      "\n",
      "              F4        F5        F6        F7        F8        F9       F10  \\\n",
      "0       0.000000  0.000000  0.000000  0.000000  0.000000  0.000000  0.000000   \n",
      "1       0.000000  0.000000  0.000000  0.000000  0.000000  0.000000  0.000000   \n",
      "2       0.000000  0.000000  0.000000  0.000000  0.000000  0.000000  0.000000   \n",
      "3       0.000000  0.000000  0.000000  0.000000  0.000000  0.000000  0.000000   \n",
      "4       0.000000  0.000000  0.000000  0.000000  0.000000  0.000000  0.000000   \n",
      "...          ...       ...       ...       ...       ...       ...       ...   \n",
      "771115  1.009766  1.069336  1.373047  1.370117  0.932617  0.924805  1.075195   \n",
      "771116  0.507812  0.538574  0.592285  0.537598  0.411133  0.377686  0.376709   \n",
      "771117  1.155273  1.317383  1.344727  1.795898  1.418945  0.970703  1.086914   \n",
      "771118  2.150391  2.345703  2.599609  2.402344  2.408203  2.259766  2.316406   \n",
      "771119  2.574219  3.230469  3.626953  3.166016  2.984375  2.736328  2.050781   \n",
      "\n",
      "             F11       F12       F13       F14       F15       F16       F17  \\\n",
      "0       0.000000  0.000000  0.000000  0.000000  0.000000  0.000000  0.000000   \n",
      "1       0.000000  0.000000  0.000000  0.000000  0.000000  0.000000  0.000000   \n",
      "2       0.000000  0.000000  0.000000  0.000000  0.000000  0.000000  0.000000   \n",
      "3       0.000000  0.000000  0.000000  0.000000  0.000000  0.000000  0.000000   \n",
      "4       0.000000  0.000000  0.000000  0.000000  0.000000  0.000000  0.000000   \n",
      "...          ...       ...       ...       ...       ...       ...       ...   \n",
      "771115  1.187500  1.375000  1.643555  1.707052  1.318359  1.201172  1.350586   \n",
      "771116  0.601074  0.614746  0.582031  0.556267  0.520020  0.446533  0.403809   \n",
      "771117  1.303711  1.717773  1.568359  2.092337  1.666992  1.379883  1.477539   \n",
      "771118  3.234375  3.177734  3.447266  3.397512  2.685547  2.738281  2.736328   \n",
      "771119  3.470703  4.574219  4.335938  4.523871  3.248047  3.228516  2.906250   \n",
      "\n",
      "             F18       F19       F20       F21       F22       F23       F24  \\\n",
      "0       0.000000  0.000000  0.000000  0.000000  0.000000  0.000000  0.000000   \n",
      "1       0.000000  0.000000  0.000000  0.000000  0.000000  0.000000  0.000000   \n",
      "2       0.000000  0.000000  0.000000  0.000000  0.000000  0.000000  0.000000   \n",
      "3       0.000000  0.000000  0.000000  0.000000  0.000000  0.000000  0.000000   \n",
      "4       0.000000  0.000000  0.000000  0.000000  0.000000  0.000000  0.000000   \n",
      "...          ...       ...       ...       ...       ...       ...       ...   \n",
      "771115  1.429688  1.371094  1.664652  1.825956  1.177734  1.349609  1.376953   \n",
      "771116  0.584473  0.569336  0.597284  0.608805  0.399170  0.385498  0.405029   \n",
      "771117  1.561523  1.666992  1.649904  2.247188  1.538086  1.456055  1.384766   \n",
      "771118  2.888672  2.763672  3.130209  3.332991  2.171875  3.195312  2.656250   \n",
      "771119  3.671875  4.386719  4.829887  4.295281  3.042969  3.451172  3.126953   \n",
      "\n",
      "             F25       F26       F27       F28  \n",
      "0       0.000000  0.000000  0.000000  0.000000  \n",
      "1       0.000000  0.000000  0.000000  0.000000  \n",
      "2       0.000000  0.000000  0.000000  0.000000  \n",
      "3       0.000000  0.000000  0.000000  0.000000  \n",
      "4       0.000000  0.000000  0.000000  0.000000  \n",
      "...          ...       ...       ...       ...  \n",
      "771115  1.186523  1.176758  1.425781  1.416016  \n",
      "771116  0.420410  0.456543  0.526855  0.495850  \n",
      "771117  1.145508  1.304688  1.386719  1.714844  \n",
      "771118  2.279297  2.533203  3.085938  2.925781  \n",
      "771119  3.052734  3.804688  4.433594  4.468750  \n",
      "\n",
      "[771120 rows x 29 columns]\n"
     ]
    }
   ],
   "source": [
    "print(evaluation_df)"
   ]
  },
  {
   "cell_type": "code",
   "execution_count": 12,
   "metadata": {},
   "outputs": [
    {
     "name": "stdout",
     "output_type": "stream",
     "text": [
      "evaluation_df:                                        id            F1            F2  \\\n",
      "0                Total_X_0.005_validation  29696.000000  28000.000000   \n",
      "1                   CA_X_0.005_validation  11968.000000  11064.000000   \n",
      "2                   TX_X_0.005_validation   7248.000000   6836.000000   \n",
      "3                   WI_X_0.005_validation   7468.000000   7268.000000   \n",
      "4                 CA_1_X_0.005_validation   2854.000000   2530.000000   \n",
      "...                                   ...           ...           ...   \n",
      "771115  FOODS_3_823_WI_3_0.995_evaluation      0.912598      0.986328   \n",
      "771116  FOODS_3_824_WI_3_0.995_evaluation      0.410645      0.404053   \n",
      "771117  FOODS_3_825_WI_3_0.995_evaluation      1.342773      1.086914   \n",
      "771118  FOODS_3_826_WI_3_0.995_evaluation      2.066406      2.388672   \n",
      "771119  FOODS_3_827_WI_3_0.995_evaluation      2.611328      2.544922   \n",
      "\n",
      "                  F3            F4            F5            F6            F7  \\\n",
      "0       27568.000000  27872.000000  31648.000000  37408.000000  41728.000000   \n",
      "1       10912.000000  10928.000000  12056.000000  15040.000000  16704.000000   \n",
      "2        6684.000000   6752.000000   7320.000000   8552.000000  10008.000000   \n",
      "3        7196.000000   7364.000000   9048.000000  10040.000000  10792.000000   \n",
      "4        2526.000000   2538.000000   2938.000000   3736.000000   4460.000000   \n",
      "...              ...           ...           ...           ...           ...   \n",
      "771115      0.997559      1.009766      1.069336      1.373047      1.370117   \n",
      "771116      0.402344      0.507812      0.538574      0.592285      0.537598   \n",
      "771117      1.196289      1.155273      1.317383      1.344727      1.795898   \n",
      "771118      2.027344      2.150391      2.345703      2.599609      2.402344   \n",
      "771119      2.009766      2.574219      3.230469      3.626953      3.166016   \n",
      "\n",
      "                  F8            F9           F10           F11           F12  \\\n",
      "0       33888.000000  33312.000000  30464.000000  31568.000000  34944.000000   \n",
      "1       12944.000000  12024.000000  11840.000000  11760.000000  12832.000000   \n",
      "2        7668.000000   7808.000000   7116.000000   7268.000000   7944.000000   \n",
      "3        9832.000000  10112.000000   8416.000000   9344.000000  10624.000000   \n",
      "4        3158.000000   2816.000000   2790.000000   2828.000000   3166.000000   \n",
      "...              ...           ...           ...           ...           ...   \n",
      "771115      0.932617      0.924805      1.075195      1.187500      1.375000   \n",
      "771116      0.411133      0.377686      0.376709      0.601074      0.614746   \n",
      "771117      1.418945      0.970703      1.086914      1.303711      1.717773   \n",
      "771118      2.408203      2.259766      2.316406      3.234375      3.177734   \n",
      "771119      2.984375      2.736328      2.050781      3.470703      4.574219   \n",
      "\n",
      "                 F13           F14           F15           F16           F17  \\\n",
      "0       41568.000000  35520.000000  33920.000000  30512.000000  31456.000000   \n",
      "1       16152.000000  14064.000000  12752.000000  11832.000000  11520.000000   \n",
      "2        9608.000000   8100.000000   8092.000000   7196.000000   7536.000000   \n",
      "3       11600.000000   9760.000000   9632.000000   8384.000000   9192.000000   \n",
      "4        4016.000000   3394.000000   3110.000000   2752.000000   2668.000000   \n",
      "...              ...           ...           ...           ...           ...   \n",
      "771115      1.643555      1.707052      1.318359      1.201172      1.350586   \n",
      "771116      0.582031      0.556267      0.520020      0.446533      0.403809   \n",
      "771117      1.568359      2.092337      1.666992      1.379883      1.477539   \n",
      "771118      3.447266      3.397512      2.685547      2.738281      2.736328   \n",
      "771119      4.335938      4.523871      3.248047      3.228516      2.906250   \n",
      "\n",
      "                 F18           F19           F20           F21           F22  \\\n",
      "0       31328.000000  33440.000000  41280.000000  41984.000000  31568.000000   \n",
      "1       11360.000000  12392.000000  15720.000000  16072.000000  12376.000000   \n",
      "2        7436.000000   7984.000000   9200.000000   9744.000000   7592.000000   \n",
      "3        9360.000000   9672.000000  12176.000000  11912.000000   8400.000000   \n",
      "4        2600.000000   2996.000000   3852.000000   3994.000000   2916.000000   \n",
      "...              ...           ...           ...           ...           ...   \n",
      "771115      1.429688      1.371094      1.664652      1.825956      1.177734   \n",
      "771116      0.584473      0.569336      0.597284      0.608805      0.399170   \n",
      "771117      1.561523      1.666992      1.649904      2.247188      1.538086   \n",
      "771118      2.888672      2.763672      3.130209      3.332991      2.171875   \n",
      "771119      3.671875      4.386719      4.829887      4.295281      3.042969   \n",
      "\n",
      "                 F23           F24           F25           F26           F27  \\\n",
      "0       29264.000000  28784.000000  28768.000000  31904.000000  38272.000000   \n",
      "1       11432.000000  11240.000000  11184.000000  12344.000000  15504.000000   \n",
      "2        6992.000000   6924.000000   6960.000000   7360.000000   8904.000000   \n",
      "3        7872.000000   7712.000000   7696.000000   8960.000000  10000.000000   \n",
      "4        2588.000000   2590.000000   2590.000000   2968.000000   3792.000000   \n",
      "...              ...           ...           ...           ...           ...   \n",
      "771115      1.349609      1.376953      1.186523      1.176758      1.425781   \n",
      "771116      0.385498      0.405029      0.420410      0.456543      0.526855   \n",
      "771117      1.456055      1.384766      1.145508      1.304688      1.386719   \n",
      "771118      3.195312      2.656250      2.279297      2.533203      3.085938   \n",
      "771119      3.451172      3.126953      3.052734      3.804688      4.433594   \n",
      "\n",
      "                 F28  \n",
      "0       38464.000000  \n",
      "1       15936.000000  \n",
      "2        9064.000000  \n",
      "3        9560.000000  \n",
      "4        3878.000000  \n",
      "...              ...  \n",
      "771115      1.416016  \n",
      "771116      0.495850  \n",
      "771117      1.714844  \n",
      "771118      2.925781  \n",
      "771119      4.468750  \n",
      "\n",
      "[771120 rows x 29 columns]\n"
     ]
    }
   ],
   "source": [
    "evaluation_df[evaluation_df[\"id\"].str.contains(\"validation\")] = validation_df[validation_df[\"id\"].str.contains(\"validation\")]\n",
    "\n",
    "print(f\"evaluation_df: {evaluation_df}\")"
   ]
  },
  {
   "cell_type": "code",
   "execution_count": null,
   "metadata": {},
   "outputs": [],
   "source": []
  },
  {
   "cell_type": "markdown",
   "metadata": {},
   "source": [
    "# export train/test result"
   ]
  },
  {
   "cell_type": "code",
   "execution_count": 13,
   "metadata": {},
   "outputs": [
    {
     "name": "stdout",
     "output_type": "stream",
     "text": [
      "csv data export start\n",
      "csv data export finished. Size: (771120, 29)\n"
     ]
    }
   ],
   "source": [
    "parent_dir = pathlib.Path(os.path.abspath(os.curdir)).parent\n",
    "# Reading competition sample submission and merging our predictions\n",
    "\n",
    "_EXPORT_FILE_NAME = _EVALUATION_RESULT\n",
    "print(\"csv data export start\")\n",
    "evaluation_df.to_csv(os.path.sep.join([str(parent_dir), _OUTPUT_DIR, _EXPORT_FILE_NAME]), index=False)\n",
    "print('csv data export finished. Size:', evaluation_df.shape)"
   ]
  },
  {
   "cell_type": "code",
   "execution_count": null,
   "metadata": {},
   "outputs": [],
   "source": []
  }
 ],
 "metadata": {
  "kernelspec": {
   "display_name": "conda_python3",
   "language": "python",
   "name": "conda_python3"
  },
  "language_info": {
   "codemirror_mode": {
    "name": "ipython",
    "version": 3
   },
   "file_extension": ".py",
   "mimetype": "text/x-python",
   "name": "python",
   "nbconvert_exporter": "python",
   "pygments_lexer": "ipython3",
   "version": "3.6.10"
  }
 },
 "nbformat": 4,
 "nbformat_minor": 4
}
